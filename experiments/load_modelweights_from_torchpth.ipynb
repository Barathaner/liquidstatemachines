{
 "cells": [
  {
   "cell_type": "code",
   "execution_count": 2,
   "metadata": {},
   "outputs": [],
   "source": [
    "# 🔧 Setup: Imports & Pfade\n",
    "import sys\n",
    "import os\n",
    "sys.path.append(\"/home/karl-/liquidstatemachines\")\n",
    "\n",
    "import torch\n",
    "import tonic.transforms as transforms\n",
    "from data.dataloader import load_filtered_shd_dataloader\n",
    "from models.sffnn_batched import Net\n"
   ]
  },
  {
   "cell_type": "code",
   "execution_count": 3,
   "metadata": {},
   "outputs": [
    {
     "name": "stdout",
     "output_type": "stream",
     "text": [
      "Using device: cuda\n"
     ]
    }
   ],
   "source": [
    "# 🖥️ Device konfigurieren\n",
    "device = torch.device(\"cuda\" if torch.cuda.is_available() else \"cpu\")\n",
    "print(f\"Using device: {device}\")\n"
   ]
  },
  {
   "cell_type": "code",
   "execution_count": 4,
   "metadata": {},
   "outputs": [],
   "source": [
    "# 🧠 Modell-Definition (muss exakt wie beim Training sein)\n",
    "model = Net(num_inputs=350, num_hidden=1000, num_outputs=10, num_steps=250, beta=0.9).to(device)\n"
   ]
  },
  {
   "cell_type": "code",
   "execution_count": 8,
   "metadata": {},
   "outputs": [
    {
     "name": "stdout",
     "output_type": "stream",
     "text": [
      "Modell erfolgreich geladen.\n"
     ]
    }
   ],
   "source": [
    "# 📦 Modell-Gewichte laden\n",
    "model.load_state_dict(torch.load(\"../model_export/model_weights.pth\", map_location=device))\n",
    "model.eval()\n",
    "print(\"Modell erfolgreich geladen.\")\n"
   ]
  },
  {
   "cell_type": "code",
   "execution_count": 9,
   "metadata": {},
   "outputs": [],
   "source": [
    "# 🔄 Testdaten vorbereiten\n",
    "transform = transforms.Compose([\n",
    "    transforms.Downsample(spatial_factor=0.5),\n",
    "    transforms.ToFrame(sensor_size=(350,1,1), n_time_bins=250)\n",
    "])\n",
    "\n",
    "test_dataloader = load_filtered_shd_dataloader(label_range=range(10), transform=transform, train=False, batch_size=1)\n"
   ]
  },
  {
   "cell_type": "code",
   "execution_count": 21,
   "metadata": {},
   "outputs": [
    {
     "name": "stdout",
     "output_type": "stream",
     "text": [
      "🔍 Predicted: 6, ✅ Ground Truth: 6\n"
     ]
    }
   ],
   "source": [
    "# 🧪 Eine Vorhersage machen\n",
    "with torch.no_grad():\n",
    "    for events, labels in test_dataloader:\n",
    "        events = events.squeeze(2).to(device).float()  # [1, T, 1, 350] → [1, T, 350]\n",
    "        labels = labels.to(device)\n",
    "        \n",
    "        spk_rec, _ = model(events)\n",
    "        spike_sums = spk_rec.sum(dim=1)  # → [B, num_outputs]\n",
    "        pred = torch.argmax(spike_sums, dim=1)\n",
    "\n",
    "        print(f\"🔍 Predicted: {pred.item()}, ✅ Ground Truth: {labels.item()}\")\n",
    "        break  # nur ein Sample testen\n"
   ]
  },
  {
   "cell_type": "code",
   "execution_count": 23,
   "metadata": {},
   "outputs": [
    {
     "name": "stdout",
     "output_type": "stream",
     "text": [
      "Accuracy (Full Dataloader): 0.6747\n"
     ]
    }
   ],
   "source": [
    "from utils.metrics import *\n",
    "print_full_dataloader_accuracy_batched(model,test_dataloader)"
   ]
  }
 ],
 "metadata": {
  "kernelspec": {
   "display_name": "Python karl2",
   "language": "python",
   "name": "karl2"
  },
  "language_info": {
   "codemirror_mode": {
    "name": "ipython",
    "version": 3
   },
   "file_extension": ".py",
   "mimetype": "text/x-python",
   "name": "python",
   "nbconvert_exporter": "python",
   "pygments_lexer": "ipython3",
   "version": "3.12.3"
  }
 },
 "nbformat": 4,
 "nbformat_minor": 2
}
