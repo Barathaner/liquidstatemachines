{
 "cells": [
  {
   "cell_type": "markdown",
   "metadata": {},
   "source": [
    "# Feed Forward SNN mit Batched Input für effizienteres Training"
   ]
  },
  {
   "cell_type": "code",
   "execution_count": 11,
   "metadata": {},
   "outputs": [],
   "source": [
    "# dataloading \n",
    "\n",
    "import sys\n",
    "import os\n",
    "sys.path.append(\"/home/karl-/liquidstatemachines\")\n",
    "from data.dataloader import *\n",
    "from data.dummy_event_based_classification_dataset import *\n",
    "import tonic.transforms as transforms\n",
    "from torch.utils.data import DataLoader\n",
    "from tonic import MemoryCachedDataset\n",
    "from utils.spike_plots import *\n",
    "\n",
    "transform = transforms.ToFrame(\n",
    "    sensor_size=tonic.datasets.SHD.sensor_size,  # = (700,),\n",
    "    n_time_bins=250\n",
    "    \n",
    ")\n",
    "train_dataset=DummySpikeDataset(2000,10000)\n",
    "cached_train_dataset = MemoryCachedDataset(train_dataset, transform=transform)\n",
    "train_dataloader=DataLoader(cached_train_dataset,batch_size=128)\n",
    "\n",
    "test_dataset=DummySpikeDataset(2000,10000,21)\n",
    "cached_test_dataset = MemoryCachedDataset(test_dataset, transform=transform)\n",
    "test_dataloader=DataLoader(cached_test_dataset,batch_size=128)\n",
    "\n",
    "events, labels = next(iter(train_dataloader))"
   ]
  },
  {
   "cell_type": "code",
   "execution_count": 12,
   "metadata": {},
   "outputs": [],
   "source": [
    "import torch.nn as nn\n",
    "from models.sffnn_batched import *\n",
    "\n",
    "device = torch.device(\"cuda\") if torch.cuda.is_available() else torch.device(\"mps\") if torch.backends.mps.is_available() else torch.device(\"cpu\")\n",
    "ffn = Net(num_inputs=700,num_hidden=1000,num_outputs=2,num_steps=250,beta=0.65).to(device)"
   ]
  },
  {
   "cell_type": "code",
   "execution_count": 13,
   "metadata": {},
   "outputs": [],
   "source": [
    "events, labels = next(iter(train_dataloader))  # z. B. events: [B, T, 1, 700]\n",
    "events = events.squeeze(2).to(device).float()  # → [B, T, 700]\n",
    "labels = labels.to(device)\n",
    "\n",
    "spk_rec, mem_rec = ffn(events)  # spk_rec: [B, T, 2]\n",
    "spike_sums = spk_rec.sum(dim=1)  # über Zeit → [B, 2]\n",
    "pred_labels = torch.argmax(spike_sums, dim=1)  # [B]\n",
    "loss_fn = nn.CrossEntropyLoss()\n",
    "loss = loss_fn(spike_sums, labels)"
   ]
  },
  {
   "cell_type": "code",
   "execution_count": 14,
   "metadata": {},
   "outputs": [
    {
     "name": "stdout",
     "output_type": "stream",
     "text": [
      "\n",
      "Epoch 1\n"
     ]
    },
    {
     "ename": "IndexError",
     "evalue": "Dimension out of range (expected to be in range of [-3, 2], but got 3)",
     "output_type": "error",
     "traceback": [
      "\u001b[31m---------------------------------------------------------------------------\u001b[39m",
      "\u001b[31mIndexError\u001b[39m                                Traceback (most recent call last)",
      "\u001b[36mCell\u001b[39m\u001b[36m \u001b[39m\u001b[32mIn[14]\u001b[39m\u001b[32m, line 47\u001b[39m\n\u001b[32m     45\u001b[39m \u001b[38;5;28;01mfor\u001b[39;00m epoch \u001b[38;5;129;01min\u001b[39;00m \u001b[38;5;28mrange\u001b[39m(\u001b[32m1\u001b[39m, \u001b[32m10\u001b[39m + \u001b[32m1\u001b[39m):\n\u001b[32m     46\u001b[39m     \u001b[38;5;28mprint\u001b[39m(\u001b[33mf\u001b[39m\u001b[33m\"\u001b[39m\u001b[38;5;130;01m\\n\u001b[39;00m\u001b[33mEpoch \u001b[39m\u001b[38;5;132;01m{\u001b[39;00mepoch\u001b[38;5;132;01m}\u001b[39;00m\u001b[33m\"\u001b[39m)\n\u001b[32m---> \u001b[39m\u001b[32m47\u001b[39m     \u001b[43mtrain_one_epoch\u001b[49m\u001b[43m(\u001b[49m\u001b[43mffn\u001b[49m\u001b[43m,\u001b[49m\u001b[43m \u001b[49m\u001b[43mtrain_dataloader\u001b[49m\u001b[43m,\u001b[49m\u001b[43m \u001b[49m\u001b[43moptimizer\u001b[49m\u001b[43m,\u001b[49m\u001b[43m \u001b[49m\u001b[43mloss_fn\u001b[49m\u001b[43m,\u001b[49m\u001b[43m \u001b[49m\u001b[43mdevice\u001b[49m\u001b[43m)\u001b[49m\n",
      "\u001b[36mCell\u001b[39m\u001b[36m \u001b[39m\u001b[32mIn[14]\u001b[39m\u001b[32m, line 18\u001b[39m, in \u001b[36mtrain_one_epoch\u001b[39m\u001b[34m(net, dataloader, optimizer, loss_fn, device)\u001b[39m\n\u001b[32m     14\u001b[39m labels = labels.to(device)\n\u001b[32m     16\u001b[39m optimizer.zero_grad()\n\u001b[32m---> \u001b[39m\u001b[32m18\u001b[39m events = events.reshape(events.size(\u001b[32m0\u001b[39m), events.size(\u001b[32m1\u001b[39m), \u001b[43mevents\u001b[49m\u001b[43m.\u001b[49m\u001b[43msize\u001b[49m\u001b[43m(\u001b[49m\u001b[32;43m3\u001b[39;49m\u001b[43m)\u001b[49m).to(device).float() * \u001b[32m1.5\u001b[39m\n\u001b[32m     19\u001b[39m labels = labels.to(device)\n\u001b[32m     21\u001b[39m spk_rec, mem_rec = ffn(events)\n",
      "\u001b[31mIndexError\u001b[39m: Dimension out of range (expected to be in range of [-3, 2], but got 3)"
     ]
    }
   ],
   "source": [
    "optimizer = torch.optim.Adam(ffn.parameters(), lr=5e-4)\n",
    "\n",
    "def train_one_epoch(net, dataloader, optimizer, loss_fn, device):\n",
    "    net.train()\n",
    "    total_loss = 0\n",
    "    correct = 0\n",
    "    total = 0\n",
    "\n",
    "    for events, labels in dataloader:\n",
    "        # events: [B, T, 1, 700] → [B, T, 700]\n",
    "        events = events.reshape(events.size(0), events.size(1), events.size(3))  # [B, T, 700]\n",
    "\n",
    "        events = events.to(device).float()\n",
    "        labels = labels.to(device)\n",
    "\n",
    "        optimizer.zero_grad()\n",
    "\n",
    "        # Forward pass\n",
    "        spk_rec, _ = net(events)              # spk_rec: [B, T, num_outputs]\n",
    "        spike_sums = spk_rec.sum(dim=1)       # Rate Coding: [B, num_outputs]\n",
    "\n",
    "        # Compute loss\n",
    "        loss = loss_fn(spike_sums, labels)    # labels: [B]\n",
    "        loss.backward()\n",
    "        optimizer.step()\n",
    "\n",
    "        total_loss += loss.item() * labels.size(0)  # multipliziere für Batch-Summen\n",
    "\n",
    "        # Accuracy\n",
    "        preds = torch.argmax(spike_sums, dim=1)     # [B]\n",
    "        correct += (preds == labels).sum().item()\n",
    "        total += labels.size(0)\n",
    "\n",
    "    avg_loss = total_loss / total\n",
    "    accuracy = correct / total\n",
    "    print(f\"Train Loss: {avg_loss:.4f}, Accuracy: {accuracy:.4f}\")\n",
    "    return avg_loss, accuracy\n",
    "\n",
    "\n",
    "for epoch in range(1, 10 + 1):\n",
    "    print(f\"\\nEpoch {epoch}\")\n",
    "    train_one_epoch(ffn, train_dataloader, optimizer, loss_fn, device)\n"
   ]
  },
  {
   "cell_type": "code",
   "execution_count": null,
   "metadata": {},
   "outputs": [
    {
     "name": "stdout",
     "output_type": "stream",
     "text": [
      "Test Accuracy: 0.4967\n"
     ]
    }
   ],
   "source": [
    "ffn.eval()\n",
    "correct = 0\n",
    "total = 0\n",
    "with torch.no_grad():\n",
    "    for events, labels in test_dataloader:\n",
    "        events = events.squeeze(2).to(device).float()\n",
    "        labels = labels.to(device)\n",
    "\n",
    "        spk_rec, _ = ffn(events)\n",
    "        spike_sums = spk_rec.sum(dim=1)\n",
    "        preds = torch.argmax(spike_sums, dim=1)\n",
    "        correct += (preds == labels).sum().item()\n",
    "        total += labels.size(0)\n",
    "\n",
    "print(f\"Test Accuracy: {correct / total:.4f}\")\n"
   ]
  },
  {
   "cell_type": "code",
   "execution_count": null,
   "metadata": {},
   "outputs": [
    {
     "name": "stdout",
     "output_type": "stream",
     "text": [
      "0.0\n",
      "tensor([[0., 0.],\n",
      "        [0., 0.],\n",
      "        [0., 0.],\n",
      "        [0., 0.],\n",
      "        [0., 0.]], device='cuda:0')\n"
     ]
    }
   ],
   "source": [
    "print(spk_rec.mean().item())  # z. B. ≈ 0.0?\n",
    "print(spk_rec.sum(dim=1)[:5])  # [B, 2]\n"
   ]
  },
  {
   "cell_type": "code",
   "execution_count": null,
   "metadata": {},
   "outputs": [],
   "source": []
  }
 ],
 "metadata": {
  "kernelspec": {
   "display_name": "Python karl",
   "language": "python",
   "name": "karl"
  },
  "language_info": {
   "codemirror_mode": {
    "name": "ipython",
    "version": 3
   },
   "file_extension": ".py",
   "mimetype": "text/x-python",
   "name": "python",
   "nbconvert_exporter": "python",
   "pygments_lexer": "ipython3",
   "version": "3.12.3"
  }
 },
 "nbformat": 4,
 "nbformat_minor": 2
}
